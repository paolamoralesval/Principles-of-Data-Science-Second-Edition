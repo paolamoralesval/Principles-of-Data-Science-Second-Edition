{
 "cells": [
  {
   "cell_type": "code",
   "execution_count": 4,
   "metadata": {},
   "outputs": [
    {
     "data": {
      "text/plain": [
       "9999"
      ]
     },
     "execution_count": 4,
     "metadata": {},
     "output_type": "execute_result"
    }
   ],
   "source": [
    "import numpy as np\n",
    "import pandas as pd\n",
    "from matplotlib import pyplot as plt\n",
    "%matplotlib inline\n",
    "\n",
    "\n",
    "results = []\n",
    "for n in range(1,10000):\n",
    "    nums = np.random.randint(low=1,high=10, size=n) # choose n numbers between 1 and 10\n",
    "    mean = nums.mean()                              # find the average of these numbers\n",
    "    results.append(mean)                            # add the average to a running list\n",
    "    \n",
    "# POP QUIZ: low large is the list results?\n",
    "\n",
    "\n",
    "len(results) # 9999\n",
    "# This was tricky because i took the range from 1 to 10000 and usually we do from 0 to 10000\n",
    "\n"
   ]
  },
  {
   "cell_type": "code",
   "execution_count": 11,
   "metadata": {},
   "outputs": [
    {
     "name": "stdout",
     "output_type": "stream",
     "text": [
      "      means\n",
      "0  9.000000\n",
      "1  6.000000\n",
      "2  3.333333\n",
      "3  3.750000\n",
      "4  2.000000\n"
     ]
    }
   ],
   "source": [
    "df = pd.DataFrame({ 'means' : results})\n",
    "print(df.head())"
   ]
  }
 ],
 "metadata": {
  "kernelspec": {
   "display_name": "Python 3",
   "language": "python",
   "name": "python3"
  },
  "language_info": {
   "codemirror_mode": {
    "name": "ipython",
    "version": 3
   },
   "file_extension": ".py",
   "mimetype": "text/x-python",
   "name": "python",
   "nbconvert_exporter": "python",
   "pygments_lexer": "ipython3",
   "version": "3.7.0"
  }
 },
 "nbformat": 4,
 "nbformat_minor": 2
}
